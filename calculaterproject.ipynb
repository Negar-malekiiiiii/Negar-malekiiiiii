{
 "cells": [
  {
   "cell_type": "code",
   "execution_count": 6,
   "metadata": {},
   "outputs": [
    {
     "name": "stdout",
     "output_type": "stream",
     "text": [
      "a*b*c20\n"
     ]
    }
   ],
   "source": [
    "def my_sum(a,b,c):\n",
    "    result=a+b+c\n",
    "    print(f\"a+b+c{result}\")\n",
    "def my_sub(a,b,c) :\n",
    "     result=a-b-c\n",
    "     print(f\"a-b-c{result}\")  \n",
    "def my_mul(a,b,c) :\n",
    "     result=a*b*c\n",
    "     print(f\"a*b*c{result}\") \n",
    "def my_div(a,b,c) :\n",
    "     result=a/b/c\n",
    "     print(f\"a/b/c{result}\") \n",
    "\n",
    "def my_calculate():\n",
    "    \n",
    "    a=int(input(\"please enter your first number:\\n\"))\n",
    "    b=int(input(\"please enter your second number:\\n\"))\n",
    "    c=int(input(\"please enter your third number:\\n\"))\n",
    "    operature=input(\"please choice your special operature:\\n\")\n",
    "    \n",
    "    if operature==\"+\":\n",
    "         my_sum(a,b,c)\n",
    "    elif operature==\"-\":\n",
    "        my_sub(a,b,c)         \n",
    "    elif operature==\"*\":\n",
    "         my_mul(a,b,c)\n",
    "    elif operature==\"/\":\n",
    "         my_div(a,b,c)     \n",
    "    else:\n",
    "         print(\"you choice wrong operature:\")     \n",
    "\n",
    "my_calculate()         "
   ]
  }
 ],
 "metadata": {
  "kernelspec": {
   "display_name": "env",
   "language": "python",
   "name": "python3"
  },
  "language_info": {
   "codemirror_mode": {
    "name": "ipython",
    "version": 3
   },
   "file_extension": ".py",
   "mimetype": "text/x-python",
   "name": "python",
   "nbconvert_exporter": "python",
   "pygments_lexer": "ipython3",
   "version": "3.10.10"
  }
 },
 "nbformat": 4,
 "nbformat_minor": 2
}
