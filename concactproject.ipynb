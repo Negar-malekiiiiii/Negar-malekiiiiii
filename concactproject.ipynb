{
 "cells": [
  {
   "cell_type": "code",
   "execution_count": 26,
   "metadata": {},
   "outputs": [],
   "source": [
    "import json\n",
    "class contactmanager:\n",
    "    def __init__(self,path):\n",
    "        self.contact_list=[]\n",
    "        \n",
    "        if path!= \"-\":\n",
    "           print(\"loading previous contacts...\")\n",
    "           with open (path,\"r\")as f:\n",
    "              data = f.read()\n",
    "              self.contact_list=json.loads(data)\n",
    "              print(\"LOADED...\")\n",
    "\n",
    "    def add(self,name,number):\n",
    "      self.contact_list.append({ \n",
    "         \"name\":name,\n",
    "         \"number\": number,\n",
    "         })\n",
    "        \n",
    "      \n",
    "    def search(self,name):\n",
    "        result=[]\n",
    "        for contact in self.contact_list:\n",
    "           if name.lowe() in contact[\"name\"].lower():\n",
    "              result.append(contact)\n",
    "              \n",
    "       \n",
    "    def backup(self):\n",
    "       with open (\"./contact_list.json\",\"w\")as f:\n",
    "          f.write(json.dumps(self.contact_list))\n",
    "\n",
    "       \n",
    "\n",
    "    def print(self):\n",
    "       print(f\"your contact is :{self.contact_list}\")   \n",
    "\n",
    "\n"
   ]
  },
  {
   "cell_type": "code",
   "execution_count": 32,
   "metadata": {},
   "outputs": [
    {
     "data": {
      "text/plain": [
       "<function __main__.contactmanager.backup(self)>"
      ]
     },
     "execution_count": 32,
     "metadata": {},
     "output_type": "execute_result"
    }
   ],
   "source": [
    "my_contacts=contactmanager\n",
    "my_contacts.backup"
   ]
  },
  {
   "cell_type": "code",
   "execution_count": 40,
   "metadata": {},
   "outputs": [
    {
     "ename": "TypeError",
     "evalue": "contactmanager.add() missing 1 required positional argument: 'number'",
     "output_type": "error",
     "traceback": [
      "\u001b[1;31m---------------------------------------------------------------------------\u001b[0m",
      "\u001b[1;31mTypeError\u001b[0m                                 Traceback (most recent call last)",
      "Cell \u001b[1;32mIn[40], line 2\u001b[0m\n\u001b[0;32m      1\u001b[0m my_contacts\u001b[38;5;241m=\u001b[39mcontactmanager\n\u001b[1;32m----> 2\u001b[0m \u001b[43mmy_contacts\u001b[49m\u001b[38;5;241;43m.\u001b[39;49m\u001b[43madd\u001b[49m\u001b[43m(\u001b[49m\u001b[38;5;124;43m\"\u001b[39;49m\u001b[38;5;124;43mali\u001b[39;49m\u001b[38;5;124;43m\"\u001b[39;49m\u001b[43m,\u001b[49m\u001b[38;5;124;43m\"\u001b[39;49m\u001b[38;5;124;43m123\u001b[39;49m\u001b[38;5;124;43m\"\u001b[39;49m\u001b[43m)\u001b[49m\n\u001b[0;32m      3\u001b[0m my_contacts\u001b[38;5;241m.\u001b[39mprint \n",
      "\u001b[1;31mTypeError\u001b[0m: contactmanager.add() missing 1 required positional argument: 'number'"
     ]
    }
   ],
   "source": [
    "my_contacts=contactmanager\n",
    "my_contacts.add(\"ali\",\"123\")\n",
    "my_contacts.print \n"
   ]
  },
  {
   "cell_type": "code",
   "execution_count": 42,
   "metadata": {},
   "outputs": [
    {
     "ename": "TypeError",
     "evalue": "contactmanager.__init__() missing 1 required positional argument: 'path'",
     "output_type": "error",
     "traceback": [
      "\u001b[1;31m---------------------------------------------------------------------------\u001b[0m",
      "\u001b[1;31mTypeError\u001b[0m                                 Traceback (most recent call last)",
      "Cell \u001b[1;32mIn[42], line 1\u001b[0m\n\u001b[1;32m----> 1\u001b[0m my_contacts \u001b[38;5;241m=\u001b[39m \u001b[43mcontactmanager\u001b[49m\u001b[43m(\u001b[49m\u001b[43m)\u001b[49m\n\u001b[0;32m      2\u001b[0m my_contacts\u001b[38;5;241m.\u001b[39madd(\u001b[38;5;124m\"\u001b[39m\u001b[38;5;124mali\u001b[39m\u001b[38;5;124m\"\u001b[39m, \u001b[38;5;124m\"\u001b[39m\u001b[38;5;124m123\u001b[39m\u001b[38;5;124m\"\u001b[39m)\n\u001b[0;32m      3\u001b[0m my_contacts\u001b[38;5;241m.\u001b[39mprint()\n",
      "\u001b[1;31mTypeError\u001b[0m: contactmanager.__init__() missing 1 required positional argument: 'path'"
     ]
    }
   ],
   "source": [
    "my_contacts = contactmanager()\n",
    "my_contacts.add(\"ali\", \"123\")\n",
    "my_contacts.print()"
   ]
  }
 ],
 "metadata": {
  "kernelspec": {
   "display_name": "env",
   "language": "python",
   "name": "python3"
  },
  "language_info": {
   "codemirror_mode": {
    "name": "ipython",
    "version": 3
   },
   "file_extension": ".py",
   "mimetype": "text/x-python",
   "name": "python",
   "nbconvert_exporter": "python",
   "pygments_lexer": "ipython3",
   "version": "3.10.10"
  }
 },
 "nbformat": 4,
 "nbformat_minor": 2
}
