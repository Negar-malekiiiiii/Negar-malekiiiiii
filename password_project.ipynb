{
 "cells": [
  {
   "cell_type": "code",
   "execution_count": 8,
   "metadata": {},
   "outputs": [
    {
     "name": "stdout",
     "output_type": "stream",
     "text": [
      "lets add a new username-password\n",
      "ADDED\n",
      "your password are as follows:\n",
      "wrong model\n"
     ]
    }
   ],
   "source": [
    "def add_pass (username,password):\n",
    "    with open(\"./passwords.txt\",\"a\") as f :\n",
    "        f.write(f\"{username}-{password}\\n\")\n",
    "        print(\"ADDED\")\n",
    "\n",
    "\n",
    "def view_pass():   \n",
    "        with open(\"./passwords.txt\",\"r\") as f :\n",
    "             for item in f:\n",
    "                  []\n",
    "                  item=item.rstrip()\n",
    "                  username,paaword=item.split(\"-\")\n",
    "                  print(f\"USERNAME:{username}-PASSWORD:{paaword}\")\n",
    "                  \n",
    "     \n",
    "while True:\n",
    "    user_input=input(\"enter the mode(v:view,a:add,q:quit)\")\n",
    "     \n",
    "    if user_input==\"v\":\n",
    "        print(\"your password are as follows:\")\n",
    "        view_pass\n",
    "    elif user_input==\"a\":\n",
    "        print(\"lets add a new username-password\")\n",
    "\n",
    "        username=input(\"enter new username:\")\n",
    "        paaword= input(\"enter new password\")\n",
    "        add_pass(username,paaword)\n",
    "    elif user_input==\"q\":\n",
    "        break \n",
    "    else:\n",
    "        print(\"wrong model\")   \n"
   ]
  }
 ],
 "metadata": {
  "kernelspec": {
   "display_name": "env",
   "language": "python",
   "name": "python3"
  },
  "language_info": {
   "codemirror_mode": {
    "name": "ipython",
    "version": 3
   },
   "file_extension": ".py",
   "mimetype": "text/x-python",
   "name": "python",
   "nbconvert_exporter": "python",
   "pygments_lexer": "ipython3",
   "version": "3.10.10"
  }
 },
 "nbformat": 4,
 "nbformat_minor": 2
}
