{
 "cells": [
  {
   "cell_type": "code",
   "execution_count": 7,
   "metadata": {},
   "outputs": [
    {
     "name": "stdout",
     "output_type": "stream",
     "text": [
      "s:sang,K:kaqaz,q:qeichi\n",
      "pc choice:k\n",
      "karbar:0,pc:1,berim date badi\n",
      "s:sang,K:kaqaz,q:qeichi\n",
      "pc choice:s\n",
      "karbar:1,pc:1,berim date badi\n",
      "s:sang,K:kaqaz,q:qeichi\n",
      "pc choice:q\n",
      "mosavi, ye bar dige test kon \n",
      "karbar:1,pc:1,berim date badi\n",
      "s:sang,K:kaqaz,q:qeichi\n",
      "pc choice:s\n",
      "karbar:1,pc:2,berim date badi\n",
      "s:sang,K:kaqaz,q:qeichi\n",
      "error!! lotfan az bein gozineha entekhab kon\n",
      "s:sang,K:kaqaz,q:qeichi\n",
      "error!! lotfan az bein gozineha entekhab kon\n",
      "s:sang,K:kaqaz,q:qeichi\n"
     ]
    },
    {
     "ename": "KeyboardInterrupt",
     "evalue": "Interrupted by user",
     "output_type": "error",
     "traceback": [
      "\u001b[1;31m---------------------------------------------------------------------------\u001b[0m",
      "\u001b[1;31mKeyboardInterrupt\u001b[0m                         Traceback (most recent call last)",
      "Cell \u001b[1;32mIn[7], line 11\u001b[0m\n\u001b[0;32m      8\u001b[0m \u001b[38;5;28;01mwhile\u001b[39;00m run:\n\u001b[0;32m     10\u001b[0m     \u001b[38;5;28mprint\u001b[39m(\u001b[38;5;124m\"\u001b[39m\u001b[38;5;124ms:sang,K:kaqaz,q:qeichi\u001b[39m\u001b[38;5;124m\"\u001b[39m)\n\u001b[1;32m---> 11\u001b[0m     karbar_choice\u001b[38;5;241m=\u001b[39m\u001b[38;5;28;43minput\u001b[39;49m\u001b[43m(\u001b[49m\u001b[38;5;124;43m\"\u001b[39;49m\u001b[38;5;124;43mlotfan gozineh mored nazar ra entekhab konid:\u001b[39;49m\u001b[38;5;130;43;01m\\n\u001b[39;49;00m\u001b[38;5;124;43m\"\u001b[39;49m\u001b[43m)\u001b[49m\n\u001b[0;32m     12\u001b[0m     \u001b[38;5;28;01mif\u001b[39;00m karbar_choice \u001b[38;5;129;01min\u001b[39;00m option:\n\u001b[0;32m     13\u001b[0m         pc_choice\u001b[38;5;241m=\u001b[39m random\u001b[38;5;241m.\u001b[39mchoice(option)\n",
      "File \u001b[1;32mf:\\pyton\\jalashe10\\env\\lib\\site-packages\\ipykernel\\kernelbase.py:1251\u001b[0m, in \u001b[0;36mKernel.raw_input\u001b[1;34m(self, prompt)\u001b[0m\n\u001b[0;32m   1249\u001b[0m     msg \u001b[38;5;241m=\u001b[39m \u001b[38;5;124m\"\u001b[39m\u001b[38;5;124mraw_input was called, but this frontend does not support input requests.\u001b[39m\u001b[38;5;124m\"\u001b[39m\n\u001b[0;32m   1250\u001b[0m     \u001b[38;5;28;01mraise\u001b[39;00m StdinNotImplementedError(msg)\n\u001b[1;32m-> 1251\u001b[0m \u001b[38;5;28;01mreturn\u001b[39;00m \u001b[38;5;28;43mself\u001b[39;49m\u001b[38;5;241;43m.\u001b[39;49m\u001b[43m_input_request\u001b[49m\u001b[43m(\u001b[49m\n\u001b[0;32m   1252\u001b[0m \u001b[43m    \u001b[49m\u001b[38;5;28;43mstr\u001b[39;49m\u001b[43m(\u001b[49m\u001b[43mprompt\u001b[49m\u001b[43m)\u001b[49m\u001b[43m,\u001b[49m\n\u001b[0;32m   1253\u001b[0m \u001b[43m    \u001b[49m\u001b[38;5;28;43mself\u001b[39;49m\u001b[38;5;241;43m.\u001b[39;49m\u001b[43m_parent_ident\u001b[49m\u001b[43m[\u001b[49m\u001b[38;5;124;43m\"\u001b[39;49m\u001b[38;5;124;43mshell\u001b[39;49m\u001b[38;5;124;43m\"\u001b[39;49m\u001b[43m]\u001b[49m\u001b[43m,\u001b[49m\n\u001b[0;32m   1254\u001b[0m \u001b[43m    \u001b[49m\u001b[38;5;28;43mself\u001b[39;49m\u001b[38;5;241;43m.\u001b[39;49m\u001b[43mget_parent\u001b[49m\u001b[43m(\u001b[49m\u001b[38;5;124;43m\"\u001b[39;49m\u001b[38;5;124;43mshell\u001b[39;49m\u001b[38;5;124;43m\"\u001b[39;49m\u001b[43m)\u001b[49m\u001b[43m,\u001b[49m\n\u001b[0;32m   1255\u001b[0m \u001b[43m    \u001b[49m\u001b[43mpassword\u001b[49m\u001b[38;5;241;43m=\u001b[39;49m\u001b[38;5;28;43;01mFalse\u001b[39;49;00m\u001b[43m,\u001b[49m\n\u001b[0;32m   1256\u001b[0m \u001b[43m\u001b[49m\u001b[43m)\u001b[49m\n",
      "File \u001b[1;32mf:\\pyton\\jalashe10\\env\\lib\\site-packages\\ipykernel\\kernelbase.py:1295\u001b[0m, in \u001b[0;36mKernel._input_request\u001b[1;34m(self, prompt, ident, parent, password)\u001b[0m\n\u001b[0;32m   1292\u001b[0m \u001b[38;5;28;01mexcept\u001b[39;00m \u001b[38;5;167;01mKeyboardInterrupt\u001b[39;00m:\n\u001b[0;32m   1293\u001b[0m     \u001b[38;5;66;03m# re-raise KeyboardInterrupt, to truncate traceback\u001b[39;00m\n\u001b[0;32m   1294\u001b[0m     msg \u001b[38;5;241m=\u001b[39m \u001b[38;5;124m\"\u001b[39m\u001b[38;5;124mInterrupted by user\u001b[39m\u001b[38;5;124m\"\u001b[39m\n\u001b[1;32m-> 1295\u001b[0m     \u001b[38;5;28;01mraise\u001b[39;00m \u001b[38;5;167;01mKeyboardInterrupt\u001b[39;00m(msg) \u001b[38;5;28;01mfrom\u001b[39;00m \u001b[38;5;28;01mNone\u001b[39;00m\n\u001b[0;32m   1296\u001b[0m \u001b[38;5;28;01mexcept\u001b[39;00m \u001b[38;5;167;01mException\u001b[39;00m:\n\u001b[0;32m   1297\u001b[0m     \u001b[38;5;28mself\u001b[39m\u001b[38;5;241m.\u001b[39mlog\u001b[38;5;241m.\u001b[39mwarning(\u001b[38;5;124m\"\u001b[39m\u001b[38;5;124mInvalid Message:\u001b[39m\u001b[38;5;124m\"\u001b[39m, exc_info\u001b[38;5;241m=\u001b[39m\u001b[38;5;28;01mTrue\u001b[39;00m)\n",
      "\u001b[1;31mKeyboardInterrupt\u001b[0m: Interrupted by user"
     ]
    }
   ],
   "source": [
    "import random\n",
    "\n",
    "option=[\"s\",\"k\",\"q\"]\n",
    "karbar_score=0\n",
    "pc_score=0\n",
    "run=True\n",
    "\n",
    "while run:\n",
    "\n",
    "    print(\"s:sang,K:kaqaz,q:qeichi\")\n",
    "    karbar_choice=input(\"lotfan gozineh mored nazar ra entekhab konid:\\n\")\n",
    "    if karbar_choice in option:\n",
    "        pc_choice= random.choice(option)\n",
    "        print(f\"pc choice:{pc_choice}\")\n",
    "\n",
    "        if pc_choice==karbar_choice:\n",
    "            print(\"mosavi, ye bar dige test kon \" )\n",
    "        elif  pc_choice==\"s\":\n",
    "            if karbar_choice==\"q\":\n",
    "                pc_score+=1\n",
    "            else :\n",
    "                karbar_score+=1\n",
    "        elif pc_choice==\"q\":\n",
    "            if karbar_choice==\"k\":\n",
    "                pc_score+=1\n",
    "            else:\n",
    "                karbar_score+=1\n",
    "        elif pc_choice==\"k\":\n",
    "            if karbar_choice==\"s\":\n",
    "                pc_score+=1\n",
    "            else:\n",
    "                karbar_score+=1\n",
    "\n",
    "    ##sharte etmam bazi:\n",
    "        if karbar_score==3 or pc_score==3:\n",
    "            if karbar_score==3:\n",
    "                print(\"karbar bord\")\n",
    "            else:\n",
    "                print(\"pc bord\")    \n",
    "            run=False        \n",
    "        else:\n",
    "            print(f\"karbar:{karbar_score},pc:{pc_score},berim date badi\")\n",
    "    else:\n",
    "        print('error!! lotfan az bein gozineha entekhab kon')    "
   ]
  }
 ],
 "metadata": {
  "kernelspec": {
   "display_name": "env",
   "language": "python",
   "name": "python3"
  },
  "language_info": {
   "codemirror_mode": {
    "name": "ipython",
    "version": 3
   },
   "file_extension": ".py",
   "mimetype": "text/x-python",
   "name": "python",
   "nbconvert_exporter": "python",
   "pygments_lexer": "ipython3",
   "version": "3.10.10"
  }
 },
 "nbformat": 4,
 "nbformat_minor": 2
}
