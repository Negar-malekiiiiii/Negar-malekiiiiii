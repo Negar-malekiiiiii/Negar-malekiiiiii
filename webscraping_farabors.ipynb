{
 "cells": [
  {
   "cell_type": "code",
   "execution_count": null,
   "metadata": {},
   "outputs": [],
   "source": [
    "import requests\n",
    "from bs4 import BeautifulSoup\n",
    "import pandas as pd\n",
    "\n",
    "url = 'https://www.ifb.ir/YTM.aspx'\n",
    "data=[]\n",
    "response = requests.get(url)\n",
    "html_content = response.text\n",
    "\n",
    "soup = BeautifulSoup(html_content, 'html.parser')\n",
    "\n",
    "div = soup.find('div', class_='form-group tableHint')\n",
    "table = soup.find('table', class_='mGird') or soup.find('table', id='ContentPlaceHolder1_grdytm')\n",
    "\n",
    "# div=soup.select_one('//*[@id=\"Form1\"]/div[4]/div[7]/div[2]')\n",
    "if table:\n",
    "    rows = table.find_all('tr')\n",
    "\n",
    "    for row in rows:\n",
    "        cells = row.find_all(['th', 'td'])\n",
    "        row_data = [cell.text.strip() for cell in cells]\n",
    "        data.append(row_data)\n",
    "        print(data)\n",
    "else:\n",
    "    print(\"Table with class 'mGird' or id 'ContentPlaceHolder1_grdytm' not found.\")\n",
    "\n",
    "\n",
    "dates = []\n",
    "amounts = []\n",
    "names = []\n",
    "\n",
    "for item in data:\n",
    "    dates.append(item[4])  \n",
    "    amounts.append(item[2])  \n",
    "    names.append(item[1])  \n",
    "\n",
    "df = pd.DataFrame({\n",
    "    'name': names,\n",
    "    'Date': dates,\n",
    "    'Amount': amounts\n",
    "})\n",
    "\n",
    "df.to_excel('test1.xlsx', index=False)\n"
   ]
  }
 ],
 "metadata": {
  "language_info": {
   "name": "python"
  }
 },
 "nbformat": 4,
 "nbformat_minor": 2
}
